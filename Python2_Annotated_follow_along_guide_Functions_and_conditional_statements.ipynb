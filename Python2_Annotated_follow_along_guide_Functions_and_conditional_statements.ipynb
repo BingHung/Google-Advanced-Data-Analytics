{
  "cells": [
    {
      "cell_type": "markdown",
      "metadata": {
        "id": "view-in-github",
        "colab_type": "text"
      },
      "source": [
        "<a href=\"https://colab.research.google.com/github/BingHung/Google-Advanced-Data-Analytics/blob/main/Python2_Annotated_follow_along_guide_Functions_and_conditional_statements.ipynb\" target=\"_parent\"><img src=\"https://colab.research.google.com/assets/colab-badge.svg\" alt=\"Open In Colab\"/></a>"
      ]
    },
    {
      "cell_type": "markdown",
      "metadata": {
        "id": "SsqL2BkX1gfQ"
      },
      "source": [
        "# Annotated follow-along guide: Functions and conditional statements\n",
        "\n",
        "This notebook contains the code used in the instructional videos from [Module 2: Functions and conditional statements](https://www.coursera.org/learn/get-started-with-python/home/module/2).\n",
        "\n",
        "## Introduction\n",
        "\n",
        "This follow-along guide is an annotated Jupyter Notebook organized to match the content from each module. It contains the same code shown in the videos for the module. In addition to content that is identical to what is covered in the videos, you’ll find additional information throughout the guide to explain the purpose of each concept covered, why the code is written in a certain way, and tips for running the code.\n",
        "\n",
        "As you watch each of the following videos, an in-video message will appear to advise you that the video you are viewing contains coding instruction and examples. The in-video message will direct you to the relevant section in the notebook for the specific video you are viewing. Follow along in the notebook as the instructor discusses the code.\n",
        "\n",
        "To skip directly to the code for a particular video, use the following links:\n",
        "\n",
        "1.   **[Define functions and returning values](#1)**\n",
        "2.   **[Write clean code](#2)**\n",
        "3.   **[Use comments to scaffold your code](#3)**\n",
        "4.   **[Make comparisons using operators](#4)**\n",
        "5.   **[Use if/elif/else statements to make decisions](#5)**\n"
      ]
    },
    {
      "cell_type": "markdown",
      "metadata": {
        "id": "8FVYPj7g0eJr"
      },
      "source": [
        "<a name=\"1\"></a>\n",
        "## 1. [Define functions and returning values](https://www.coursera.org/learn/get-started-with-python/lecture/RA9w4/define-functions-and-returning-values)"
      ]
    },
    {
      "cell_type": "code",
      "execution_count": null,
      "metadata": {
        "colab": {
          "base_uri": "https://localhost:8080/"
        },
        "id": "SYkTVSEebZj4",
        "outputId": "7af13500-3287-4a07-bef4-c8e624ae78a7"
      },
      "outputs": [
        {
          "name": "stdout",
          "output_type": "stream",
          "text": [
            "Black dove, where will you go?\n"
          ]
        }
      ],
      "source": [
        "# The print() function can print text to the screen.\n",
        "print('Black dove, where will you go?')"
      ]
    },
    {
      "cell_type": "code",
      "execution_count": null,
      "metadata": {
        "colab": {
          "base_uri": "https://localhost:8080/"
        },
        "id": "o_qynY6hetIg",
        "outputId": "4fc7b54f-d3b5-4254-8fa1-fb8e8d29d46b"
      },
      "outputs": [
        {
          "data": {
            "text/plain": [
              "int"
            ]
          },
          "execution_count": 2,
          "metadata": {},
          "output_type": "execute_result"
        }
      ],
      "source": [
        "# The type() function returns an object's data type.\n",
        "number = 15\n",
        "\n",
        "type(number)"
      ]
    },
    {
      "cell_type": "code",
      "execution_count": null,
      "metadata": {
        "colab": {
          "base_uri": "https://localhost:8080/"
        },
        "id": "jvMjavI0e8zb",
        "outputId": "f7d4558b-bbf6-49f5-9084-551dc6344416"
      },
      "outputs": [
        {
          "data": {
            "text/plain": [
              "str"
            ]
          },
          "execution_count": 3,
          "metadata": {},
          "output_type": "execute_result"
        }
      ],
      "source": [
        "# The str() function converts an object into a string.\n",
        "number = str(number)\n",
        "\n",
        "type(number)"
      ]
    },
    {
      "cell_type": "code",
      "execution_count": null,
      "metadata": {
        "colab": {
          "base_uri": "https://localhost:8080/"
        },
        "id": "YCQiHlE1flng",
        "outputId": "782dd148-c9dc-4441-b8ec-602391c65815"
      },
      "outputs": [
        {
          "name": "stdout",
          "output_type": "stream",
          "text": [
            "Welcome, Rebecca!\n",
            "You are part of the team!\n"
          ]
        }
      ],
      "source": [
        "# Define a function.\n",
        "def greeting(name):\n",
        "\n",
        "    print('Welcome, ' + name + '!')\n",
        "    print('You are part of the team!')\n",
        "\n",
        "greeting('Rebecca')"
      ]
    },
    {
      "cell_type": "code",
      "execution_count": null,
      "metadata": {
        "id": "_3TCOYXnnIBb"
      },
      "outputs": [],
      "source": [
        "# Define a function to calculate the area of a triangle.\n",
        "def area_triangle(base, height):\n",
        "    return base * height / 2"
      ]
    },
    {
      "cell_type": "code",
      "execution_count": null,
      "metadata": {
        "colab": {
          "base_uri": "https://localhost:8080/"
        },
        "id": "NJizOkv_pVUq",
        "outputId": "c1830a54-f52c-4d62-f949-8d1e122f034c"
      },
      "outputs": [
        {
          "data": {
            "text/plain": [
              "20.5"
            ]
          },
          "execution_count": 6,
          "metadata": {},
          "output_type": "execute_result"
        }
      ],
      "source": [
        "# Use the function to assign new variables and perform calculations.\n",
        "area_a = area_triangle(5, 4)\n",
        "area_b = area_triangle(7, 3)\n",
        "total_area = area_a + area_b\n",
        "total_area"
      ]
    },
    {
      "cell_type": "code",
      "execution_count": null,
      "metadata": {
        "id": "KRL-vXNmurhP"
      },
      "outputs": [],
      "source": [
        "# Define a function that converts hours, minutes, and seconds to total seconds.\n",
        "def get_seconds(hours, minutes, seconds):\n",
        "    total_seconds = 3600*hours + 60*minutes + seconds\n",
        "    return total_seconds"
      ]
    },
    {
      "cell_type": "code",
      "execution_count": null,
      "metadata": {
        "colab": {
          "base_uri": "https://localhost:8080/"
        },
        "id": "NuAq7CcEzfGV",
        "outputId": "a20a9fd8-bf33-4055-da0e-80cc1a04ddd6"
      },
      "outputs": [
        {
          "data": {
            "text/plain": [
              "60320"
            ]
          },
          "execution_count": 8,
          "metadata": {},
          "output_type": "execute_result"
        }
      ],
      "source": [
        "# Use the function to return a result.\n",
        "get_seconds(16, 45, 20)"
      ]
    },
    {
      "cell_type": "markdown",
      "metadata": {
        "id": "s5RzgdRfOCfR"
      },
      "source": [
        "<a name=\"2\"></a>\n",
        "## 2. [Write clean code](https://www.coursera.org/learn/get-started-with-python/lecture/KKTTl/write-clean-code)"
      ]
    },
    {
      "cell_type": "code",
      "execution_count": null,
      "metadata": {
        "colab": {
          "base_uri": "https://localhost:8080/"
        },
        "id": "kg5Xbwh5N-o-",
        "outputId": "74675c80-6560-4fd7-987b-d25ae75998d3"
      },
      "outputs": [
        {
          "name": "stdout",
          "output_type": "stream",
          "text": [
            "Hello Marisol. Your lucky number is 63\n",
            "Hello Ardashir. Your lucky number is 72\n"
          ]
        }
      ],
      "source": [
        "# This code does the same thing for two different people.\n",
        "name = \"Marisol\"\n",
        "number = len(name)*9\n",
        "print(\"Hello \" + name + \". Your lucky number is \" + str(number))\n",
        "\n",
        "name = \"Ardashir\"\n",
        "number = len(name)*9\n",
        "print(\"Hello \" + name + \". Your lucky number is \" + str(number))"
      ]
    },
    {
      "cell_type": "code",
      "execution_count": null,
      "metadata": {
        "colab": {
          "base_uri": "https://localhost:8080/"
        },
        "id": "8v6ceKH3OVS_",
        "outputId": "0337bcbc-d413-4cc2-81e0-d6384d6405b6"
      },
      "outputs": [
        {
          "name": "stdout",
          "output_type": "stream",
          "text": [
            "Hello Marisol. Your lucky number is 63\n",
            "Hello Ardashir. Your lucky number is 72\n"
          ]
        }
      ],
      "source": [
        "# Define a function that simplifies the above code and makes it reusable.\n",
        "def lucky_number(name):\n",
        "    number = len(name)*9\n",
        "    print(\"Hello \" + name + \". Your lucky number is \" + str(number))\n",
        "\n",
        "lucky_number(\"Marisol\")\n",
        "lucky_number(\"Ardashir\")"
      ]
    },
    {
      "cell_type": "code",
      "execution_count": null,
      "metadata": {
        "id": "-9guAtFOObX2"
      },
      "outputs": [],
      "source": [
        "# This code requests a number from the user and returns its factorial,\n",
        "# printing each iteration of the multiplication.\n",
        "a = input(); y = 1\n",
        "\n",
        "for i in range(int(a)):\n",
        "    y = y*(i+1)\n",
        "    print(y)"
      ]
    },
    {
      "cell_type": "code",
      "execution_count": null,
      "metadata": {
        "id": "Z3quZLDLO-tD"
      },
      "outputs": [],
      "source": [
        "# This function takes an integer as an input and returns its factorial.\n",
        "def factorial(n):\n",
        "    # Exclude 0 as product, start with 1\n",
        "    y = 1\n",
        "    for i in range(int(n)):\n",
        "        y = y*(i+1)\n",
        "    return y\n",
        "\n",
        "# Enter a numerical value between 1-9 in the command line that appears.\n",
        "input_num = input()\n",
        "# Apply factorial function to an integer input\n",
        "print(factorial(input_num))"
      ]
    },
    {
      "cell_type": "markdown",
      "metadata": {
        "id": "G7qwupEHLUuF"
      },
      "source": [
        "<a name=\"3\"></a>\n",
        "## 3. [Use comments to scaffold your code](https://www.coursera.org/learn/get-started-with-python/lecture/EKWJa/use-comments-to-scaffold-your-code)"
      ]
    },
    {
      "cell_type": "code",
      "execution_count": null,
      "metadata": {
        "id": "zFyuPLrNEOux"
      },
      "outputs": [],
      "source": [
        "def seed_calculator(fountain_side, grass_width):\n",
        "    \"\"\"\n",
        "    Calculate number of kilograms of grass seed needed for\n",
        "    a border around a square fountain.\n",
        "\n",
        "        Parameters:\n",
        "            fountain_side (num): length of 1 side of fountain in meters\n",
        "            grass_width (num): width of grass border in meters\n",
        "\n",
        "        Returns:\n",
        "            seed (float): amount of seed (kg) needed for grass border\n",
        "    \"\"\"\n",
        "    # Area of fountain\n",
        "    fountain_area = fountain_side**2\n",
        "    # Total area\n",
        "    total_area = (fountain_side + 2 * grass_width)**2\n",
        "    # Area of grass border\n",
        "    grass_area = total_area - fountain_area\n",
        "    # Amount of seed needed (35 g/sq.m)\n",
        "    seed = grass_area * 35\n",
        "    # Convert to kg\n",
        "    seed = seed / 1000\n",
        "\n",
        "    return seed"
      ]
    },
    {
      "cell_type": "code",
      "execution_count": null,
      "metadata": {
        "id": "gRIWXmr7R0e9"
      },
      "outputs": [],
      "source": [
        "seed_calculator(12, 2)"
      ]
    },
    {
      "cell_type": "markdown",
      "metadata": {
        "id": "hNmQ2LyP-3VX"
      },
      "source": [
        "<a name=\"4\"></a>\n",
        "## 4. [Make comparisons using operators](https://www.coursera.org/learn/get-started-with-python/lecture/JvbMh/make-comparisons-using-operators)"
      ]
    },
    {
      "cell_type": "code",
      "execution_count": null,
      "metadata": {
        "id": "ZYGv8gTRfrFS"
      },
      "outputs": [],
      "source": [
        "# > checks for greater than\n",
        "print(10>1)"
      ]
    },
    {
      "cell_type": "code",
      "execution_count": null,
      "metadata": {
        "id": "6WEs0JMXf0Kz"
      },
      "outputs": [],
      "source": [
        "# == checks for equality\n",
        "print(\"cat\" == \"dog\")"
      ]
    },
    {
      "cell_type": "code",
      "execution_count": null,
      "metadata": {
        "id": "EmUglyEqf-Ne"
      },
      "outputs": [],
      "source": [
        "# != checks for inequality\n",
        "print(1 != 2)"
      ]
    },
    {
      "cell_type": "code",
      "execution_count": null,
      "metadata": {
        "id": "_VBXcVIsf_ww"
      },
      "outputs": [],
      "source": [
        "# Some operators cannot be used between different data types.\n",
        "print(1 < \"1\")"
      ]
    },
    {
      "cell_type": "code",
      "execution_count": null,
      "metadata": {
        "id": "dm76KeYtgA-_"
      },
      "outputs": [],
      "source": [
        "# Letters that occur earlier in the alphabet evaluate to less than letters from later in the alphabet.\n",
        "# BOTH sides of an `and` statement must be true to return True.\n",
        "print(\"Yellow\" > \"Cyan\" and \"Brown\" > \"Magenta\")"
      ]
    },
    {
      "cell_type": "code",
      "execution_count": null,
      "metadata": {
        "id": "PDAiTz6PgHDa"
      },
      "outputs": [],
      "source": [
        "# An `or` statement will return True if EITHER side evaluates to True.\n",
        "print(25 > 50 or 1 != 2)"
      ]
    },
    {
      "cell_type": "code",
      "execution_count": null,
      "metadata": {
        "id": "4d1pG-jhgKjc"
      },
      "outputs": [],
      "source": [
        "# `not` reverses Boolean evaluation of what follows it.\n",
        "print(not 42 == \"Answer\")"
      ]
    },
    {
      "cell_type": "markdown",
      "metadata": {
        "id": "TenGy3DS35Rg"
      },
      "source": [
        "<a name=\"5\"></a>\n",
        "## 5. [Use if/elif/else statements to make decisions](https://www.coursera.org/learn/get-started-with-python/lecture/6JsS8/use-if-elif-else-statements-to-make-decisions)"
      ]
    },
    {
      "cell_type": "code",
      "execution_count": null,
      "metadata": {
        "id": "ehsdCQKDgMCm"
      },
      "outputs": [],
      "source": [
        "# Define a function that checks validity of username based on length.\n",
        "def hint_username(username):\n",
        "    if len(username) < 8:\n",
        "        print(\"Invalid username. Must be at least 8 characters long.\")\n",
        "    else:\n",
        "        print(\"Valid username.\")"
      ]
    },
    {
      "cell_type": "code",
      "execution_count": null,
      "metadata": {
        "id": "hujfuTBpgQ4W"
      },
      "outputs": [],
      "source": [
        "# Define a function that uses modulo to check if a number is even.\n",
        "def is_even(number):\n",
        "    if number % 2 == 0:\n",
        "        return True\n",
        "    return False"
      ]
    },
    {
      "cell_type": "code",
      "execution_count": null,
      "metadata": {
        "id": "6w3b3F-QgR99"
      },
      "outputs": [],
      "source": [
        "is_even(19)"
      ]
    },
    {
      "cell_type": "code",
      "execution_count": null,
      "metadata": {
        "id": "eE-Ji3c_gTfd"
      },
      "outputs": [],
      "source": [
        "# Define a function that checks validity of username based on length.\n",
        "def hint_username(username):\n",
        "    if len(username) < 8:\n",
        "        print(\"Invalid username. Must be at least 8 characters long.\")\n",
        "    elif len(username) > 15:\n",
        "        print(\"Invalid username. Cannot exceed 15 characters.\")\n",
        "    else:\n",
        "        print(\"Valid username.\")"
      ]
    },
    {
      "cell_type": "code",
      "execution_count": null,
      "metadata": {
        "id": "3p6wqqdngUqe"
      },
      "outputs": [],
      "source": [
        "hint_username(\"ljñkljfñklasdjflkñadjglk{a\")"
      ]
    },
    {
      "cell_type": "markdown",
      "metadata": {
        "id": "wf9mrjv1UDRA"
      },
      "source": [
        "**Congratulations!** You've completed this lab. However, you may not notice a green check mark next to this item on Coursera's platform. Please continue your progress regardless of the check mark. Just click on the \"save\" icon at the top of this notebook to ensure your work has been logged."
      ]
    }
  ],
  "metadata": {
    "colab": {
      "provenance": [],
      "include_colab_link": true
    },
    "kernelspec": {
      "display_name": "Python 3",
      "language": "python",
      "name": "python3"
    },
    "language_info": {
      "codemirror_mode": {
        "name": "ipython",
        "version": 3
      },
      "file_extension": ".py",
      "mimetype": "text/x-python",
      "name": "python",
      "nbconvert_exporter": "python",
      "pygments_lexer": "ipython3",
      "version": "3.7.6"
    }
  },
  "nbformat": 4,
  "nbformat_minor": 0
}